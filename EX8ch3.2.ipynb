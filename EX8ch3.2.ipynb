{
 "cells": [
  {
   "cell_type": "code",
   "execution_count": 12,
   "metadata": {},
   "outputs": [
    {
     "name": "stdout",
     "output_type": "stream",
     "text": [
      "Requirement already satisfied: numpy in /usr/local/python/3.12.1/lib/python3.12/site-packages (1.26.4)\n",
      "Note: you may need to restart the kernel to use updated packages.\n"
     ]
    }
   ],
   "source": [
    "pip install numpy"
   ]
  },
  {
   "cell_type": "code",
   "execution_count": 13,
   "metadata": {},
   "outputs": [
    {
     "name": "stdout",
     "output_type": "stream",
     "text": [
      "Requirement already satisfied: pandas in /home/codespace/.local/lib/python3.12/site-packages (2.2.3)\n",
      "Requirement already satisfied: numpy>=1.26.0 in /usr/local/python/3.12.1/lib/python3.12/site-packages (from pandas) (1.26.4)\n",
      "Requirement already satisfied: python-dateutil>=2.8.2 in /home/codespace/.local/lib/python3.12/site-packages (from pandas) (2.9.0.post0)\n",
      "Requirement already satisfied: pytz>=2020.1 in /home/codespace/.local/lib/python3.12/site-packages (from pandas) (2024.2)\n",
      "Requirement already satisfied: tzdata>=2022.7 in /home/codespace/.local/lib/python3.12/site-packages (from pandas) (2024.2)\n",
      "Requirement already satisfied: six>=1.5 in /home/codespace/.local/lib/python3.12/site-packages (from python-dateutil>=2.8.2->pandas) (1.16.0)\n",
      "Note: you may need to restart the kernel to use updated packages.\n"
     ]
    }
   ],
   "source": [
    "pip install pandas"
   ]
  },
  {
   "cell_type": "code",
   "execution_count": 14,
   "metadata": {},
   "outputs": [
    {
     "name": "stdout",
     "output_type": "stream",
     "text": [
      "Requirement already satisfied: matplotlib in /home/codespace/.local/lib/python3.12/site-packages (3.9.2)\n",
      "Requirement already satisfied: contourpy>=1.0.1 in /home/codespace/.local/lib/python3.12/site-packages (from matplotlib) (1.3.0)\n",
      "Requirement already satisfied: cycler>=0.10 in /home/codespace/.local/lib/python3.12/site-packages (from matplotlib) (0.12.1)\n",
      "Requirement already satisfied: fonttools>=4.22.0 in /home/codespace/.local/lib/python3.12/site-packages (from matplotlib) (4.54.1)\n",
      "Requirement already satisfied: kiwisolver>=1.3.1 in /home/codespace/.local/lib/python3.12/site-packages (from matplotlib) (1.4.7)\n",
      "Requirement already satisfied: numpy>=1.23 in /usr/local/python/3.12.1/lib/python3.12/site-packages (from matplotlib) (1.26.4)\n",
      "Requirement already satisfied: packaging>=20.0 in /home/codespace/.local/lib/python3.12/site-packages (from matplotlib) (24.1)\n",
      "Requirement already satisfied: pillow>=8 in /home/codespace/.local/lib/python3.12/site-packages (from matplotlib) (10.4.0)\n",
      "Requirement already satisfied: pyparsing>=2.3.1 in /home/codespace/.local/lib/python3.12/site-packages (from matplotlib) (3.1.4)\n",
      "Requirement already satisfied: python-dateutil>=2.7 in /home/codespace/.local/lib/python3.12/site-packages (from matplotlib) (2.9.0.post0)\n",
      "Requirement already satisfied: six>=1.5 in /home/codespace/.local/lib/python3.12/site-packages (from python-dateutil>=2.7->matplotlib) (1.16.0)\n",
      "Note: you may need to restart the kernel to use updated packages.\n"
     ]
    }
   ],
   "source": [
    "\n",
    "\n",
    "pip install matplotlib"
   ]
  },
  {
   "cell_type": "code",
   "execution_count": 15,
   "metadata": {},
   "outputs": [
    {
     "name": "stdout",
     "output_type": "stream",
     "text": [
      "Requirement already satisfied: seaborn in /home/codespace/.local/lib/python3.12/site-packages (0.13.2)\n",
      "Requirement already satisfied: numpy!=1.24.0,>=1.20 in /usr/local/python/3.12.1/lib/python3.12/site-packages (from seaborn) (1.26.4)\n",
      "Requirement already satisfied: pandas>=1.2 in /home/codespace/.local/lib/python3.12/site-packages (from seaborn) (2.2.3)\n",
      "Requirement already satisfied: matplotlib!=3.6.1,>=3.4 in /home/codespace/.local/lib/python3.12/site-packages (from seaborn) (3.9.2)\n",
      "Requirement already satisfied: contourpy>=1.0.1 in /home/codespace/.local/lib/python3.12/site-packages (from matplotlib!=3.6.1,>=3.4->seaborn) (1.3.0)\n",
      "Requirement already satisfied: cycler>=0.10 in /home/codespace/.local/lib/python3.12/site-packages (from matplotlib!=3.6.1,>=3.4->seaborn) (0.12.1)\n",
      "Requirement already satisfied: fonttools>=4.22.0 in /home/codespace/.local/lib/python3.12/site-packages (from matplotlib!=3.6.1,>=3.4->seaborn) (4.54.1)\n",
      "Requirement already satisfied: kiwisolver>=1.3.1 in /home/codespace/.local/lib/python3.12/site-packages (from matplotlib!=3.6.1,>=3.4->seaborn) (1.4.7)\n",
      "Requirement already satisfied: packaging>=20.0 in /home/codespace/.local/lib/python3.12/site-packages (from matplotlib!=3.6.1,>=3.4->seaborn) (24.1)\n",
      "Requirement already satisfied: pillow>=8 in /home/codespace/.local/lib/python3.12/site-packages (from matplotlib!=3.6.1,>=3.4->seaborn) (10.4.0)\n",
      "Requirement already satisfied: pyparsing>=2.3.1 in /home/codespace/.local/lib/python3.12/site-packages (from matplotlib!=3.6.1,>=3.4->seaborn) (3.1.4)\n",
      "Requirement already satisfied: python-dateutil>=2.7 in /home/codespace/.local/lib/python3.12/site-packages (from matplotlib!=3.6.1,>=3.4->seaborn) (2.9.0.post0)\n",
      "Requirement already satisfied: pytz>=2020.1 in /home/codespace/.local/lib/python3.12/site-packages (from pandas>=1.2->seaborn) (2024.2)\n",
      "Requirement already satisfied: tzdata>=2022.7 in /home/codespace/.local/lib/python3.12/site-packages (from pandas>=1.2->seaborn) (2024.2)\n",
      "Requirement already satisfied: six>=1.5 in /home/codespace/.local/lib/python3.12/site-packages (from python-dateutil>=2.7->matplotlib!=3.6.1,>=3.4->seaborn) (1.16.0)\n",
      "Note: you may need to restart the kernel to use updated packages.\n"
     ]
    }
   ],
   "source": [
    "pip install seaborn"
   ]
  },
  {
   "cell_type": "code",
   "execution_count": 16,
   "metadata": {},
   "outputs": [
    {
     "name": "stdout",
     "output_type": "stream",
     "text": [
      "Requirement already satisfied: scipy in /usr/local/python/3.12.1/lib/python3.12/site-packages (1.11.4)\n",
      "Requirement already satisfied: numpy<1.28.0,>=1.21.6 in /usr/local/python/3.12.1/lib/python3.12/site-packages (from scipy) (1.26.4)\n",
      "Note: you may need to restart the kernel to use updated packages.\n"
     ]
    }
   ],
   "source": [
    "pip install scipy"
   ]
  },
  {
   "cell_type": "code",
   "execution_count": 17,
   "metadata": {},
   "outputs": [
    {
     "name": "stdout",
     "output_type": "stream",
     "text": [
      "Requirement already satisfied: ISLP in /usr/local/python/3.12.1/lib/python3.12/site-packages (0.4.0)\n",
      "Requirement already satisfied: numpy>=1.7.1 in /usr/local/python/3.12.1/lib/python3.12/site-packages (from ISLP) (1.26.4)\n",
      "Requirement already satisfied: scipy>=0.9 in /usr/local/python/3.12.1/lib/python3.12/site-packages (from ISLP) (1.11.4)\n",
      "Requirement already satisfied: pandas>=0.20 in /home/codespace/.local/lib/python3.12/site-packages (from ISLP) (2.2.3)\n",
      "Requirement already satisfied: lxml in /usr/local/python/3.12.1/lib/python3.12/site-packages (from ISLP) (5.3.0)\n",
      "Requirement already satisfied: scikit-learn>=1.2 in /home/codespace/.local/lib/python3.12/site-packages (from ISLP) (1.5.2)\n",
      "Requirement already satisfied: joblib in /home/codespace/.local/lib/python3.12/site-packages (from ISLP) (1.4.2)\n",
      "Requirement already satisfied: statsmodels>=0.13 in /usr/local/python/3.12.1/lib/python3.12/site-packages (from ISLP) (0.14.4)\n",
      "Requirement already satisfied: lifelines in /usr/local/python/3.12.1/lib/python3.12/site-packages (from ISLP) (0.29.0)\n",
      "Requirement already satisfied: pygam in /usr/local/python/3.12.1/lib/python3.12/site-packages (from ISLP) (0.9.1)\n",
      "Requirement already satisfied: torch in /home/codespace/.local/lib/python3.12/site-packages (from ISLP) (2.4.1+cpu)\n",
      "Requirement already satisfied: pytorch-lightning in /usr/local/python/3.12.1/lib/python3.12/site-packages (from ISLP) (2.4.0)\n",
      "Requirement already satisfied: torchmetrics in /usr/local/python/3.12.1/lib/python3.12/site-packages (from ISLP) (1.5.0)\n",
      "Requirement already satisfied: python-dateutil>=2.8.2 in /home/codespace/.local/lib/python3.12/site-packages (from pandas>=0.20->ISLP) (2.9.0.post0)\n",
      "Requirement already satisfied: pytz>=2020.1 in /home/codespace/.local/lib/python3.12/site-packages (from pandas>=0.20->ISLP) (2024.2)\n",
      "Requirement already satisfied: tzdata>=2022.7 in /home/codespace/.local/lib/python3.12/site-packages (from pandas>=0.20->ISLP) (2024.2)\n",
      "Requirement already satisfied: threadpoolctl>=3.1.0 in /home/codespace/.local/lib/python3.12/site-packages (from scikit-learn>=1.2->ISLP) (3.5.0)\n",
      "Requirement already satisfied: patsy>=0.5.6 in /usr/local/python/3.12.1/lib/python3.12/site-packages (from statsmodels>=0.13->ISLP) (0.5.6)\n",
      "Requirement already satisfied: packaging>=21.3 in /home/codespace/.local/lib/python3.12/site-packages (from statsmodels>=0.13->ISLP) (24.1)\n",
      "Requirement already satisfied: matplotlib>=3.0 in /home/codespace/.local/lib/python3.12/site-packages (from lifelines->ISLP) (3.9.2)\n",
      "Requirement already satisfied: autograd>=1.5 in /usr/local/python/3.12.1/lib/python3.12/site-packages (from lifelines->ISLP) (1.7.0)\n",
      "Requirement already satisfied: autograd-gamma>=0.3 in /usr/local/python/3.12.1/lib/python3.12/site-packages (from lifelines->ISLP) (0.5.0)\n",
      "Requirement already satisfied: formulaic>=0.2.2 in /usr/local/python/3.12.1/lib/python3.12/site-packages (from lifelines->ISLP) (1.0.2)\n",
      "Requirement already satisfied: progressbar2<5.0.0,>=4.2.0 in /usr/local/python/3.12.1/lib/python3.12/site-packages (from pygam->ISLP) (4.5.0)\n",
      "Requirement already satisfied: tqdm>=4.57.0 in /usr/local/python/3.12.1/lib/python3.12/site-packages (from pytorch-lightning->ISLP) (4.66.5)\n",
      "Requirement already satisfied: PyYAML>=5.4 in /home/codespace/.local/lib/python3.12/site-packages (from pytorch-lightning->ISLP) (6.0.2)\n",
      "Requirement already satisfied: fsspec>=2022.5.0 in /home/codespace/.local/lib/python3.12/site-packages (from fsspec[http]>=2022.5.0->pytorch-lightning->ISLP) (2024.2.0)\n",
      "Requirement already satisfied: typing-extensions>=4.4.0 in /home/codespace/.local/lib/python3.12/site-packages (from pytorch-lightning->ISLP) (4.9.0)\n",
      "Requirement already satisfied: lightning-utilities>=0.10.0 in /usr/local/python/3.12.1/lib/python3.12/site-packages (from pytorch-lightning->ISLP) (0.11.8)\n",
      "Requirement already satisfied: filelock in /home/codespace/.local/lib/python3.12/site-packages (from torch->ISLP) (3.13.1)\n",
      "Requirement already satisfied: sympy in /home/codespace/.local/lib/python3.12/site-packages (from torch->ISLP) (1.12)\n",
      "Requirement already satisfied: networkx in /home/codespace/.local/lib/python3.12/site-packages (from torch->ISLP) (3.2.1)\n",
      "Requirement already satisfied: jinja2 in /home/codespace/.local/lib/python3.12/site-packages (from torch->ISLP) (3.1.4)\n",
      "Requirement already satisfied: setuptools in /home/codespace/.local/lib/python3.12/site-packages (from torch->ISLP) (75.1.0)\n",
      "Requirement already satisfied: interface-meta>=1.2.0 in /usr/local/python/3.12.1/lib/python3.12/site-packages (from formulaic>=0.2.2->lifelines->ISLP) (1.3.0)\n",
      "Requirement already satisfied: wrapt>=1.0 in /usr/local/python/3.12.1/lib/python3.12/site-packages (from formulaic>=0.2.2->lifelines->ISLP) (1.16.0)\n",
      "Requirement already satisfied: aiohttp!=4.0.0a0,!=4.0.0a1 in /usr/local/python/3.12.1/lib/python3.12/site-packages (from fsspec[http]>=2022.5.0->pytorch-lightning->ISLP) (3.10.10)\n",
      "Requirement already satisfied: contourpy>=1.0.1 in /home/codespace/.local/lib/python3.12/site-packages (from matplotlib>=3.0->lifelines->ISLP) (1.3.0)\n",
      "Requirement already satisfied: cycler>=0.10 in /home/codespace/.local/lib/python3.12/site-packages (from matplotlib>=3.0->lifelines->ISLP) (0.12.1)\n",
      "Requirement already satisfied: fonttools>=4.22.0 in /home/codespace/.local/lib/python3.12/site-packages (from matplotlib>=3.0->lifelines->ISLP) (4.54.1)\n",
      "Requirement already satisfied: kiwisolver>=1.3.1 in /home/codespace/.local/lib/python3.12/site-packages (from matplotlib>=3.0->lifelines->ISLP) (1.4.7)\n",
      "Requirement already satisfied: pillow>=8 in /home/codespace/.local/lib/python3.12/site-packages (from matplotlib>=3.0->lifelines->ISLP) (10.4.0)\n",
      "Requirement already satisfied: pyparsing>=2.3.1 in /home/codespace/.local/lib/python3.12/site-packages (from matplotlib>=3.0->lifelines->ISLP) (3.1.4)\n",
      "Requirement already satisfied: six in /home/codespace/.local/lib/python3.12/site-packages (from patsy>=0.5.6->statsmodels>=0.13->ISLP) (1.16.0)\n",
      "Requirement already satisfied: python-utils>=3.8.1 in /usr/local/python/3.12.1/lib/python3.12/site-packages (from progressbar2<5.0.0,>=4.2.0->pygam->ISLP) (3.9.0)\n",
      "Requirement already satisfied: MarkupSafe>=2.0 in /home/codespace/.local/lib/python3.12/site-packages (from jinja2->torch->ISLP) (2.1.5)\n",
      "Requirement already satisfied: mpmath>=0.19 in /home/codespace/.local/lib/python3.12/site-packages (from sympy->torch->ISLP) (1.3.0)\n",
      "Requirement already satisfied: aiohappyeyeballs>=2.3.0 in /usr/local/python/3.12.1/lib/python3.12/site-packages (from aiohttp!=4.0.0a0,!=4.0.0a1->fsspec[http]>=2022.5.0->pytorch-lightning->ISLP) (2.4.3)\n",
      "Requirement already satisfied: aiosignal>=1.1.2 in /usr/local/python/3.12.1/lib/python3.12/site-packages (from aiohttp!=4.0.0a0,!=4.0.0a1->fsspec[http]>=2022.5.0->pytorch-lightning->ISLP) (1.3.1)\n",
      "Requirement already satisfied: attrs>=17.3.0 in /home/codespace/.local/lib/python3.12/site-packages (from aiohttp!=4.0.0a0,!=4.0.0a1->fsspec[http]>=2022.5.0->pytorch-lightning->ISLP) (24.2.0)\n",
      "Requirement already satisfied: frozenlist>=1.1.1 in /usr/local/python/3.12.1/lib/python3.12/site-packages (from aiohttp!=4.0.0a0,!=4.0.0a1->fsspec[http]>=2022.5.0->pytorch-lightning->ISLP) (1.4.1)\n",
      "Requirement already satisfied: multidict<7.0,>=4.5 in /usr/local/python/3.12.1/lib/python3.12/site-packages (from aiohttp!=4.0.0a0,!=4.0.0a1->fsspec[http]>=2022.5.0->pytorch-lightning->ISLP) (6.1.0)\n",
      "Requirement already satisfied: yarl<2.0,>=1.12.0 in /usr/local/python/3.12.1/lib/python3.12/site-packages (from aiohttp!=4.0.0a0,!=4.0.0a1->fsspec[http]>=2022.5.0->pytorch-lightning->ISLP) (1.15.5)\n",
      "Requirement already satisfied: idna>=2.0 in /home/codespace/.local/lib/python3.12/site-packages (from yarl<2.0,>=1.12.0->aiohttp!=4.0.0a0,!=4.0.0a1->fsspec[http]>=2022.5.0->pytorch-lightning->ISLP) (3.10)\n",
      "Requirement already satisfied: propcache>=0.2.0 in /usr/local/python/3.12.1/lib/python3.12/site-packages (from yarl<2.0,>=1.12.0->aiohttp!=4.0.0a0,!=4.0.0a1->fsspec[http]>=2022.5.0->pytorch-lightning->ISLP) (0.2.0)\n",
      "Note: you may need to restart the kernel to use updated packages.\n"
     ]
    }
   ],
   "source": [
    "pip install ISLP"
   ]
  },
  {
   "cell_type": "code",
   "execution_count": 18,
   "metadata": {},
   "outputs": [
    {
     "name": "stdout",
     "output_type": "stream",
     "text": [
      "Requirement already satisfied: statsmodels in /usr/local/python/3.12.1/lib/python3.12/site-packages (0.14.4)\n",
      "Requirement already satisfied: numpy<3,>=1.22.3 in /usr/local/python/3.12.1/lib/python3.12/site-packages (from statsmodels) (1.26.4)\n",
      "Requirement already satisfied: scipy!=1.9.2,>=1.8 in /usr/local/python/3.12.1/lib/python3.12/site-packages (from statsmodels) (1.11.4)\n",
      "Requirement already satisfied: pandas!=2.1.0,>=1.4 in /home/codespace/.local/lib/python3.12/site-packages (from statsmodels) (2.2.3)\n",
      "Requirement already satisfied: patsy>=0.5.6 in /usr/local/python/3.12.1/lib/python3.12/site-packages (from statsmodels) (0.5.6)\n",
      "Requirement already satisfied: packaging>=21.3 in /home/codespace/.local/lib/python3.12/site-packages (from statsmodels) (24.1)\n",
      "Requirement already satisfied: python-dateutil>=2.8.2 in /home/codespace/.local/lib/python3.12/site-packages (from pandas!=2.1.0,>=1.4->statsmodels) (2.9.0.post0)\n",
      "Requirement already satisfied: pytz>=2020.1 in /home/codespace/.local/lib/python3.12/site-packages (from pandas!=2.1.0,>=1.4->statsmodels) (2024.2)\n",
      "Requirement already satisfied: tzdata>=2022.7 in /home/codespace/.local/lib/python3.12/site-packages (from pandas!=2.1.0,>=1.4->statsmodels) (2024.2)\n",
      "Requirement already satisfied: six in /home/codespace/.local/lib/python3.12/site-packages (from patsy>=0.5.6->statsmodels) (1.16.0)\n",
      "Note: you may need to restart the kernel to use updated packages.\n"
     ]
    }
   ],
   "source": [
    "pip install statsmodels"
   ]
  },
  {
   "cell_type": "code",
   "execution_count": 19,
   "metadata": {},
   "outputs": [],
   "source": [
    "# Exercise 8: Simple Linear Regression with Auto Dataset\n",
    "import pandas as pd\n",
    "import numpy as np\n",
    "import statsmodels.api as sm\n",
    "import matplotlib.pyplot as plt\n",
    "from statsmodels.stats.outliers_influence import OLSInfluence\n",
    "\n"
   ]
  },
  {
   "cell_type": "code",
   "execution_count": 20,
   "metadata": {},
   "outputs": [
    {
     "name": "stdout",
     "output_type": "stream",
     "text": [
      "\n",
      "First few rows of the data:\n"
     ]
    },
    {
     "ename": "NameError",
     "evalue": "name 'auto_data' is not defined",
     "output_type": "error",
     "traceback": [
      "\u001b[0;31m---------------------------------------------------------------------------\u001b[0m",
      "\u001b[0;31mNameError\u001b[0m                                 Traceback (most recent call last)",
      "Cell \u001b[0;32mIn[20], line 2\u001b[0m\n\u001b[1;32m      1\u001b[0m \u001b[38;5;28mprint\u001b[39m(\u001b[38;5;124m\"\u001b[39m\u001b[38;5;130;01m\\n\u001b[39;00m\u001b[38;5;124mFirst few rows of the data:\u001b[39m\u001b[38;5;124m\"\u001b[39m)\n\u001b[0;32m----> 2\u001b[0m \u001b[38;5;28mprint\u001b[39m(\u001b[43mauto_data\u001b[49m\u001b[38;5;241m.\u001b[39mhead())\n",
      "\u001b[0;31mNameError\u001b[0m: name 'auto_data' is not defined"
     ]
    }
   ],
   "source": [
    "\n",
    "print(\"\\nFirst few rows of the data:\")\n",
    "print(auto_data.head())"
   ]
  },
  {
   "cell_type": "code",
   "execution_count": null,
   "metadata": {},
   "outputs": [],
   "source": [
    "# Read the data\n",
    "try:\n",
    "    auto_data = pd.read_csv('Auto.csv')\n",
    "    print(\"Data loaded successfully!\")\n",
    "    \n",
    "    # Display initial info about the dataset\n",
    "    print(\"\\nInitial data info:\")\n",
    "    print(auto_data.info())\n",
    "    \n",
    "    auto_data = auto_data.replace('?', np.nan)\n",
    "    auto_data = auto_data.dropna()\n",
    "    \n",
    "    # 2. Convert horsepower to numeric type\n",
    "    auto_data['horsepower'] = pd.to_numeric(auto_data['horsepower'])\n",
    "    \n",
    "    # 3. Convert mpg to numeric type\n",
    "    auto_data['mpg'] = pd.to_numeric(auto_data['mpg'])\n",
    "    \n",
    "    print(\"\\nData cleaned successfully!\")\n",
    "    print(\"\\nCleaned data info:\")\n",
    "    print(auto_data.info())\n",
    "\n",
    "except Exception as e:\n",
    "    print(f\"An error occurred: {e}\")\n",
    "    exit()\n",
    "\n",
    "# Part (a): Simple linear regression\n",
    "print(\"\\nPart (a): Simple Linear Regression Analysis\")\n",
    "\n",
    "# Prepare the data\n",
    "X = sm.add_constant(auto_data['horsepower']) \n",
    "\n",
    "# Fit the model\n",
    "model = sm.OLS(y, X).fit()\n",
    "\n",
    "# Print summary\n",
    "print(\"\\nRegression Summary:\")\n",
    "print(model.summary())\n",
    "\n",
    "# Answer questions about the relationship\n",
    "print(\"\\nAnswering questions about the relationship:\")\n",
    "print(f\"R-squared: {model.rsquared:.4f}\")\n",
    "print(f\"Coefficient for horsepower: {model.params['horsepower']:.4f}\")\n",
    "print(f\"P-value for horsepower: {model.pvalues['horsepower']:.4f}\")\n",
    "\n",
    "# Predict MPG for horsepower = 98\n",
    "new_hp = np.array([[1, 98]])  \n",
    "prediction = model.get_prediction(new_hp)\n",
    "\n",
    "# Get summary frame with predictions, \n",
    "prediction_summary = prediction.summary_frame()\n",
    "\n",
    "# Extract predicted value, confidence interval, and prediction interval\n",
    "predicted_mpg = prediction_summary['mean'][0]\n",
    "conf_int_lower = prediction_summary['mean_ci_lower'][0]\n",
    "conf_int_upper = prediction_summary['mean_ci_upper'][0]\n",
    "pred_int_lower = prediction_summary['obs_ci_lower'][0]\n",
    "pred_int_upper = prediction_summary['obs_ci_upper'][0]\n",
    "\n",
    "# Display the results\n",
    "print(\"\\nPredictions for horsepower = 98:\")\n",
    "print(f\"Predicted MPG: {predicted_mpg:.2f}\")\n",
    "print(f\"95% Confidence Interval: ({conf_int_lower:.2f}, {conf_int_upper:.2f})\")\n",
    "print(f\"95% Prediction Interval: ({pred_int_lower:.2f}, {pred_int_upper:.2f})\")\n",
    "\n",
    "\n",
    "# Part (b): Plotting\n",
    "plt.figure(figsize=(10, 6))\n",
    "plt.scatter(auto_data['horsepower'], auto_data['mpg'], alpha=0.5, color='blue', label='Data Points')\n",
    "plt.plot(auto_data['horsepower'], model.predict(X), color='red', label='Regression Line')\n",
    "plt.xlabel('Horsepower')\n",
    "plt.ylabel('MPG')\n",
    "plt.title('MPG vs. Horsepower with Regression Line')\n",
    "plt.legend()\n",
    "plt.grid(True)\n",
    "plt.show()\n",
    "\n",
    "# Part (c): Diagnostic plots\n",
    "fig, axes = plt.subplots(2, 2, figsize=(15, 10))\n",
    "\n",
    "# 1. Residuals vs Fitted\n",
    "axes[0, 0].scatter(model.fittedvalues, model.resid, color='blue', alpha=0.5)\n",
    "axes[0, 0].axhline(y=0, color='red', linestyle='--')\n",
    "axes[0, 0].set_xlabel('Fitted values')\n",
    "axes[0, 0].set_ylabel('Residuals')\n",
    "axes[0, 0].set_title('Residuals vs Fitted')\n",
    "axes[0, 0].grid(True)\n",
    "\n",
    "# 2. Q-Q plot\n",
    "sm.graphics.qqplot(model.resid, line='45', fit=True, ax=axes[0, 1])\n",
    "axes[0, 1].set_title('Normal Q-Q Plot')\n",
    "axes[0, 1].grid(True)\n",
    "\n",
    "# 3. Scale-Location Plot\n",
    "standardized_resid = np.sqrt(np.abs(model.resid/np.std(model.resid)))\n",
    "axes[1, 0].scatter(model.fittedvalues, standardized_resid, color='blue', alpha=0.5)\n",
    "axes[1, 0].set_xlabel('Fitted values')\n",
    "axes[1, 0].set_ylabel('√|Standardized Residuals|')\n",
    "axes[1, 0].set_title('Scale-Location Plot')\n",
    "axes[1, 0].grid(True)\n",
    "\n",
    "# 4. Leverage Plot\n",
    "influence = OLSInfluence(model)\n",
    "axes[1, 1].scatter(influence.hat_matrix_diag, model.resid, color='blue', alpha=0.5)\n",
    "axes[1, 1].axhline(y=0, color='red', linestyle='--')\n",
    "axes[1, 1].set_xlabel('Leverage')\n",
    "axes[1, 1].set_ylabel('Residuals')\n",
    "axes[1, 1].set_title('Residuals vs Leverage')\n",
    "axes[1, 1].grid(True)\n",
    "\n",
    "plt.tight_layout()\n",
    "plt.show()\n",
    "\n",
    "# Print diagnostic comments\n",
    "print(\"\\nDiagnostic Analysis:\")\n",
    "print(\"1. Residuals vs Fitted: Look for patterns that might indicate non-linearity\")\n",
    "print(\"2. Normal Q-Q Plot: Check if residuals follow a normal distribution\")\n",
    "print(\"3. Scale-Location: Check for homoscedasticity\")\n",
    "print(\"4. Residuals vs Leverage: Identify influential points\")\n",
    "\n",
    "# Print data summary\n",
    "print(\"\\nData Summary:\")\n",
    "print(auto_data[['mpg', 'horsepower']].describe())\n"
   ]
  }
 ],
 "metadata": {
  "kernelspec": {
   "display_name": "Python 3",
   "language": "python",
   "name": "python3"
  },
  "language_info": {
   "codemirror_mode": {
    "name": "ipython",
    "version": 3
   },
   "file_extension": ".py",
   "mimetype": "text/x-python",
   "name": "python",
   "nbconvert_exporter": "python",
   "pygments_lexer": "ipython3",
   "version": "3.12.1"
  }
 },
 "nbformat": 4,
 "nbformat_minor": 2
}
