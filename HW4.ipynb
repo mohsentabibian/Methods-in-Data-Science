{
 "cells": [
  {
   "cell_type": "markdown",
   "metadata": {},
   "source": [
    "# Methods in Data Science - Homework 4 - Fall 2024 - Wilmington College\n",
    "\n",
    "**Chapter 4: Exercises 13 (except part (j)) and 14**"
   ]
  },
  {
   "cell_type": "markdown",
   "metadata": {},
   "source": [
    "13. This question should be answered using the `Weekly` data set, which\n",
    "is part of the `ISLP` package. This data is similar in nature to the\n",
    "`Smarket` data from this chapter’s lab, except that it contains 1, 089\n",
    "weekly returns for 21 years, from the beginning of 1990 to the end of  2010.\n",
    "- (a) Produce some numerical and graphical summaries of the `Weekly`\n",
    "data. **Do there appear to be any patterns?**\n",
    "\n",
    "- (b) Use the full data set to perform a logistic regression with\n",
    "`Direction` as the response and the five lag variables plus `Volume`\n",
    "as predictors. Use the summary function to print the results. **Do\n",
    "any of the predictors appear to be statistically significant? If so,\n",
    "which ones?**\n",
    "\n",
    "- (c) Compute the confusion matrix and overall fraction of correct\n",
    "predictions. **Explain what the confusion matrix is telling you\n",
    "about the types of mistakes made by logistic regression.**\n",
    "\n",
    "- (d) Now fit the logistic regression model using a training data period\n",
    "from 1990 to 2008, with `Lag2` as the only predictor. Compute the\n",
    "confusion matrix and the overall fraction of correct predictions\n",
    "for the held out data (that is, the data from 2009 and 2010).\n",
    "\n",
    "- (e) Repeat (d) using LDA.\n",
    "\n",
    "- (f) Repeat (d) using QDA.\n",
    "\n",
    "- (g) Repeat (d) using KNN with K = 1.\n",
    "\n",
    "- (h) Repeat (d) using naive Bayes.\n",
    "\n",
    "- (i) **Which of these methods appears to provide the best results on\n",
    "this data?**"
   ]
  },
  {
   "cell_type": "code",
   "execution_count": null,
   "metadata": {},
   "outputs": [],
   "source": []
  },
  {
   "cell_type": "markdown",
   "metadata": {},
   "source": [
    "14. In this problem, you will develop a model to predict whether a given\n",
    "car gets high or low gas mileage based on the `Auto` data set.\n",
    "\n",
    "- (a) Create a binary variable, `mpg01`, that contains a 1 if mpg contains\n",
    "a value above its median, and a 0 if mpg contains a value below\n",
    "its median. You can compute the median using the median()\n",
    "method of the data frame. Note you may find it helpful to add\n",
    "a column `mpg01` to the data frame by assignment. Assuming you\n",
    "have stored the data frame as `Auto`, this can be done as follows:\n",
    "`Auto['mpg01 '] = mpg01`\n",
    "\n",
    "- (b) Explore the data graphically in order to investigate the association between `mpg01` and the other features. Which of the other\n",
    "features seem most likely to be useful in predicting `mpg01`? Scatterplots and boxplots may be useful tools to answer this ques-\n",
    "tion. Describe your findings.\n",
    "\n",
    "- (c) Split the data into a training set and a test set.\n",
    "\n",
    "- (d) Perform LDA on the training data in order to predict `mpg01`\n",
    "using the variables that seemed most associated with `mpg01` in\n",
    "(b). What is the test error of the model obtained?\n",
    "\n",
    "- (e) Perform QDA on the training data in order to predict `mpg01`\n",
    "using the variables that seemed most associated with `mpg01` in\n",
    "(b). What is the test error of the model obtained?\n",
    "\n",
    "- (f) Perform logistic regression on the training data in order to predict `mpg01` using the variables that seemed most associated with\n",
    "`mpg01` in (b). What is the test error of the model obtained?\n",
    "\n",
    "- (g) Perform naive Bayes on the training data in order to predict\n",
    "`mpg01` using the variables that seemed most associated with `mpg01`\n",
    "in (b). What is the test error of the model obtained?\n",
    "\n",
    "- (h) Perform KNN on the training data, with several values of K, in\n",
    "order to predict `mpg01`. Use only the variables that seemed most\n",
    "associated with `mpg01` in (b). What test errors do you obtain?\n",
    "Which value of K seems to perform the best on this data set?"
   ]
  },
  {
   "cell_type": "code",
   "execution_count": null,
   "metadata": {},
   "outputs": [],
   "source": []
  }
 ],
 "metadata": {
  "kernelspec": {
   "display_name": "Python 3",
   "language": "python",
   "name": "python3"
  },
  "language_info": {
   "codemirror_mode": {
    "name": "ipython",
    "version": 3
   },
   "file_extension": ".py",
   "mimetype": "text/x-python",
   "name": "python",
   "nbconvert_exporter": "python",
   "pygments_lexer": "ipython3",
   "version": "3.12.1"
  }
 },
 "nbformat": 4,
 "nbformat_minor": 2
}
